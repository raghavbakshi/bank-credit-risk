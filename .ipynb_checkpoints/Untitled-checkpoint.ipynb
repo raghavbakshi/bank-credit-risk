{
 "cells": [
  {
   "cell_type": "code",
   "execution_count": 1,
   "metadata": {},
   "outputs": [],
   "source": [
    "import numpy as np\n",
    "import pandas as pd\n",
    "import statsmodels.api as sm\n",
    "pd.set_option(\"display.max_columns\", None)"
   ]
  },
  {
   "cell_type": "code",
   "execution_count": 2,
   "metadata": {},
   "outputs": [],
   "source": [
    "data = np.loadtxt(\"SouthGermanCredit.asc\",skiprows=1)"
   ]
  },
  {
   "cell_type": "code",
   "execution_count": 62,
   "metadata": {},
   "outputs": [],
   "source": [
    "df=pd.DataFrame(data)"
   ]
  },
  {
   "cell_type": "code",
   "execution_count": 3,
   "metadata": {},
   "outputs": [],
   "source": [
    "df = pd.DataFrame(data, columns=[\"status\", \"duration\", \"credit_history\" ,\"purpose\", \"amount\", \"savings\", \"employment_duration\", \"installment_rate\", \"personal_status_sex\", \"other_debtors\", \"present_residence\", \"property\", \"age\", \"other_installment_plans\", \"housing\", \"number_credits\", \"job\", \"people_liable\", \"telephone\", \"foreign_worker\", \"credit_risk\"\n",
    "])"
   ]
  },
  {
   "cell_type": "code",
   "execution_count": 4,
   "metadata": {},
   "outputs": [
    {
     "data": {
      "text/html": [
       "<div>\n",
       "<style scoped>\n",
       "    .dataframe tbody tr th:only-of-type {\n",
       "        vertical-align: middle;\n",
       "    }\n",
       "\n",
       "    .dataframe tbody tr th {\n",
       "        vertical-align: top;\n",
       "    }\n",
       "\n",
       "    .dataframe thead th {\n",
       "        text-align: right;\n",
       "    }\n",
       "</style>\n",
       "<table border=\"1\" class=\"dataframe\">\n",
       "  <thead>\n",
       "    <tr style=\"text-align: right;\">\n",
       "      <th></th>\n",
       "      <th>status</th>\n",
       "      <th>duration</th>\n",
       "      <th>credit_history</th>\n",
       "      <th>purpose</th>\n",
       "      <th>amount</th>\n",
       "      <th>savings</th>\n",
       "      <th>employment_duration</th>\n",
       "      <th>installment_rate</th>\n",
       "      <th>personal_status_sex</th>\n",
       "      <th>other_debtors</th>\n",
       "      <th>present_residence</th>\n",
       "      <th>property</th>\n",
       "      <th>age</th>\n",
       "      <th>other_installment_plans</th>\n",
       "      <th>housing</th>\n",
       "      <th>number_credits</th>\n",
       "      <th>job</th>\n",
       "      <th>people_liable</th>\n",
       "      <th>telephone</th>\n",
       "      <th>foreign_worker</th>\n",
       "      <th>credit_risk</th>\n",
       "    </tr>\n",
       "  </thead>\n",
       "  <tbody>\n",
       "    <tr>\n",
       "      <th>0</th>\n",
       "      <td>1.0</td>\n",
       "      <td>18.0</td>\n",
       "      <td>4.0</td>\n",
       "      <td>2.0</td>\n",
       "      <td>1049.0</td>\n",
       "      <td>1.0</td>\n",
       "      <td>2.0</td>\n",
       "      <td>4.0</td>\n",
       "      <td>2.0</td>\n",
       "      <td>1.0</td>\n",
       "      <td>4.0</td>\n",
       "      <td>2.0</td>\n",
       "      <td>21.0</td>\n",
       "      <td>3.0</td>\n",
       "      <td>1.0</td>\n",
       "      <td>1.0</td>\n",
       "      <td>3.0</td>\n",
       "      <td>2.0</td>\n",
       "      <td>1.0</td>\n",
       "      <td>2.0</td>\n",
       "      <td>1.0</td>\n",
       "    </tr>\n",
       "    <tr>\n",
       "      <th>1</th>\n",
       "      <td>1.0</td>\n",
       "      <td>9.0</td>\n",
       "      <td>4.0</td>\n",
       "      <td>0.0</td>\n",
       "      <td>2799.0</td>\n",
       "      <td>1.0</td>\n",
       "      <td>3.0</td>\n",
       "      <td>2.0</td>\n",
       "      <td>3.0</td>\n",
       "      <td>1.0</td>\n",
       "      <td>2.0</td>\n",
       "      <td>1.0</td>\n",
       "      <td>36.0</td>\n",
       "      <td>3.0</td>\n",
       "      <td>1.0</td>\n",
       "      <td>2.0</td>\n",
       "      <td>3.0</td>\n",
       "      <td>1.0</td>\n",
       "      <td>1.0</td>\n",
       "      <td>2.0</td>\n",
       "      <td>1.0</td>\n",
       "    </tr>\n",
       "    <tr>\n",
       "      <th>2</th>\n",
       "      <td>2.0</td>\n",
       "      <td>12.0</td>\n",
       "      <td>2.0</td>\n",
       "      <td>9.0</td>\n",
       "      <td>841.0</td>\n",
       "      <td>2.0</td>\n",
       "      <td>4.0</td>\n",
       "      <td>2.0</td>\n",
       "      <td>2.0</td>\n",
       "      <td>1.0</td>\n",
       "      <td>4.0</td>\n",
       "      <td>1.0</td>\n",
       "      <td>23.0</td>\n",
       "      <td>3.0</td>\n",
       "      <td>1.0</td>\n",
       "      <td>1.0</td>\n",
       "      <td>2.0</td>\n",
       "      <td>2.0</td>\n",
       "      <td>1.0</td>\n",
       "      <td>2.0</td>\n",
       "      <td>1.0</td>\n",
       "    </tr>\n",
       "    <tr>\n",
       "      <th>3</th>\n",
       "      <td>1.0</td>\n",
       "      <td>12.0</td>\n",
       "      <td>4.0</td>\n",
       "      <td>0.0</td>\n",
       "      <td>2122.0</td>\n",
       "      <td>1.0</td>\n",
       "      <td>3.0</td>\n",
       "      <td>3.0</td>\n",
       "      <td>3.0</td>\n",
       "      <td>1.0</td>\n",
       "      <td>2.0</td>\n",
       "      <td>1.0</td>\n",
       "      <td>39.0</td>\n",
       "      <td>3.0</td>\n",
       "      <td>1.0</td>\n",
       "      <td>2.0</td>\n",
       "      <td>2.0</td>\n",
       "      <td>1.0</td>\n",
       "      <td>1.0</td>\n",
       "      <td>1.0</td>\n",
       "      <td>1.0</td>\n",
       "    </tr>\n",
       "    <tr>\n",
       "      <th>4</th>\n",
       "      <td>1.0</td>\n",
       "      <td>12.0</td>\n",
       "      <td>4.0</td>\n",
       "      <td>0.0</td>\n",
       "      <td>2171.0</td>\n",
       "      <td>1.0</td>\n",
       "      <td>3.0</td>\n",
       "      <td>4.0</td>\n",
       "      <td>3.0</td>\n",
       "      <td>1.0</td>\n",
       "      <td>4.0</td>\n",
       "      <td>2.0</td>\n",
       "      <td>38.0</td>\n",
       "      <td>1.0</td>\n",
       "      <td>2.0</td>\n",
       "      <td>2.0</td>\n",
       "      <td>2.0</td>\n",
       "      <td>2.0</td>\n",
       "      <td>1.0</td>\n",
       "      <td>1.0</td>\n",
       "      <td>1.0</td>\n",
       "    </tr>\n",
       "  </tbody>\n",
       "</table>\n",
       "</div>"
      ],
      "text/plain": [
       "   status  duration  credit_history  purpose  amount  savings  \\\n",
       "0     1.0      18.0             4.0      2.0  1049.0      1.0   \n",
       "1     1.0       9.0             4.0      0.0  2799.0      1.0   \n",
       "2     2.0      12.0             2.0      9.0   841.0      2.0   \n",
       "3     1.0      12.0             4.0      0.0  2122.0      1.0   \n",
       "4     1.0      12.0             4.0      0.0  2171.0      1.0   \n",
       "\n",
       "   employment_duration  installment_rate  personal_status_sex  other_debtors  \\\n",
       "0                  2.0               4.0                  2.0            1.0   \n",
       "1                  3.0               2.0                  3.0            1.0   \n",
       "2                  4.0               2.0                  2.0            1.0   \n",
       "3                  3.0               3.0                  3.0            1.0   \n",
       "4                  3.0               4.0                  3.0            1.0   \n",
       "\n",
       "   present_residence  property   age  other_installment_plans  housing  \\\n",
       "0                4.0       2.0  21.0                      3.0      1.0   \n",
       "1                2.0       1.0  36.0                      3.0      1.0   \n",
       "2                4.0       1.0  23.0                      3.0      1.0   \n",
       "3                2.0       1.0  39.0                      3.0      1.0   \n",
       "4                4.0       2.0  38.0                      1.0      2.0   \n",
       "\n",
       "   number_credits  job  people_liable  telephone  foreign_worker  credit_risk  \n",
       "0             1.0  3.0            2.0        1.0             2.0          1.0  \n",
       "1             2.0  3.0            1.0        1.0             2.0          1.0  \n",
       "2             1.0  2.0            2.0        1.0             2.0          1.0  \n",
       "3             2.0  2.0            1.0        1.0             1.0          1.0  \n",
       "4             2.0  2.0            2.0        1.0             1.0          1.0  "
      ]
     },
     "execution_count": 4,
     "metadata": {},
     "output_type": "execute_result"
    }
   ],
   "source": [
    "df.head()"
   ]
  },
  {
   "cell_type": "code",
   "execution_count": 8,
   "metadata": {},
   "outputs": [
    {
     "ename": "TypeError",
     "evalue": "'int' object is not iterable",
     "output_type": "error",
     "traceback": [
      "\u001b[1;31m---------------------------------------------------------------------------\u001b[0m",
      "\u001b[1;31mTypeError\u001b[0m                                 Traceback (most recent call last)",
      "\u001b[1;32m<ipython-input-8-cbdbf8aab4cd>\u001b[0m in \u001b[0;36m<module>\u001b[1;34m\u001b[0m\n\u001b[1;32m----> 1\u001b[1;33m \u001b[1;32mfor\u001b[0m \u001b[0mi\u001b[0m \u001b[1;32min\u001b[0m \u001b[0mdf\u001b[0m\u001b[1;33m.\u001b[0m\u001b[0mshape\u001b[0m\u001b[1;33m[\u001b[0m\u001b[1;36m0\u001b[0m\u001b[1;33m]\u001b[0m\u001b[1;33m:\u001b[0m\u001b[1;33m\u001b[0m\u001b[1;33m\u001b[0m\u001b[0m\n\u001b[0m\u001b[0;32m      2\u001b[0m     \u001b[0mprint\u001b[0m\u001b[1;33m(\u001b[0m\u001b[0mi\u001b[0m\u001b[1;33m)\u001b[0m\u001b[1;33m\u001b[0m\u001b[1;33m\u001b[0m\u001b[0m\n",
      "\u001b[1;31mTypeError\u001b[0m: 'int' object is not iterable"
     ]
    }
   ],
   "source": [
    "for i in df.shape[0]:\n",
    "    print(i)"
   ]
  },
  {
   "cell_type": "code",
   "execution_count": 7,
   "metadata": {},
   "outputs": [
    {
     "data": {
      "text/plain": [
       "1000"
      ]
     },
     "execution_count": 7,
     "metadata": {},
     "output_type": "execute_result"
    }
   ],
   "source": [
    "df.shape[0]"
   ]
  },
  {
   "cell_type": "code",
   "execution_count": 29,
   "metadata": {},
   "outputs": [],
   "source": [
    "x = sm.add_constant(x)"
   ]
  },
  {
   "cell_type": "code",
   "execution_count": 30,
   "metadata": {},
   "outputs": [],
   "source": [
    "result = sm.OLS(y, x).fit()"
   ]
  },
  {
   "cell_type": "code",
   "execution_count": 31,
   "metadata": {},
   "outputs": [
    {
     "name": "stdout",
     "output_type": "stream",
     "text": [
      "                            OLS Regression Results                            \n",
      "==============================================================================\n",
      "Dep. Variable:            credit_risk   R-squared:                       0.237\n",
      "Model:                            OLS   Adj. R-squared:                  0.222\n",
      "Method:                 Least Squares   F-statistic:                     15.24\n",
      "Date:                Wed, 18 Aug 2021   Prob (F-statistic):           3.04e-45\n",
      "Time:                        11:05:59   Log-Likelihood:                -503.12\n",
      "No. Observations:                1000   AIC:                             1048.\n",
      "Df Residuals:                     979   BIC:                             1151.\n",
      "Df Model:                          20                                         \n",
      "Covariance Type:            nonrobust                                         \n",
      "===========================================================================================\n",
      "                              coef    std err          t      P>|t|      [0.025      0.975]\n",
      "-------------------------------------------------------------------------------------------\n",
      "const                       0.2040      0.192      1.064      0.288      -0.172       0.580\n",
      "status                      0.0988      0.011      9.100      0.000       0.077       0.120\n",
      "duration                   -0.0044      0.001     -2.962      0.003      -0.007      -0.001\n",
      "credit_history              0.0657      0.014      4.733      0.000       0.038       0.093\n",
      "purpose                     0.0047      0.005      0.972      0.331      -0.005       0.014\n",
      "amount                  -1.534e-05   6.82e-06     -2.251      0.025   -2.87e-05   -1.96e-06\n",
      "savings                     0.0342      0.008      4.032      0.000       0.018       0.051\n",
      "employment_duration         0.0248      0.012      2.144      0.032       0.002       0.048\n",
      "installment_rate           -0.0471      0.013     -3.595      0.000      -0.073      -0.021\n",
      "personal_status_sex         0.0439      0.019      2.348      0.019       0.007       0.081\n",
      "other_debtors               0.0588      0.028      2.117      0.034       0.004       0.113\n",
      "present_residence          -0.0029      0.013     -0.227      0.821      -0.028       0.022\n",
      "property                   -0.0325      0.014     -2.261      0.024      -0.061      -0.004\n",
      "age                         0.0011      0.001      0.827      0.408      -0.001       0.004\n",
      "other_installment_plans     0.0361      0.019      1.916      0.056      -0.001       0.073\n",
      "housing                     0.0499      0.028      1.803      0.072      -0.004       0.104\n",
      "number_credits             -0.0423      0.025     -1.662      0.097      -0.092       0.008\n",
      "job                         0.0050      0.023      0.221      0.826      -0.039       0.049\n",
      "people_liable               0.0293      0.037      0.797      0.426      -0.043       0.101\n",
      "telephone                   0.0510      0.029      1.733      0.083      -0.007       0.109\n",
      "foreign_worker             -0.1145      0.071     -1.621      0.105      -0.253       0.024\n",
      "==============================================================================\n",
      "Omnibus:                       90.664   Durbin-Watson:                   0.718\n",
      "Prob(Omnibus):                  0.000   Jarque-Bera (JB):               73.905\n",
      "Skew:                          -0.579   Prob(JB):                     8.95e-17\n",
      "Kurtosis:                       2.342   Cond. No.                     6.71e+04\n",
      "==============================================================================\n",
      "\n",
      "Warnings:\n",
      "[1] Standard Errors assume that the covariance matrix of the errors is correctly specified.\n",
      "[2] The condition number is large, 6.71e+04. This might indicate that there are\n",
      "strong multicollinearity or other numerical problems.\n"
     ]
    }
   ],
   "source": [
    "print(result.summary())"
   ]
  },
  {
   "cell_type": "code",
   "execution_count": 43,
   "metadata": {},
   "outputs": [],
   "source": [
    "from sklearn.decomposition import PCA"
   ]
  },
  {
   "cell_type": "code",
   "execution_count": 45,
   "metadata": {},
   "outputs": [
    {
     "name": "stdout",
     "output_type": "stream",
     "text": [
      "Explained Variance: [9.99970189e-01 1.63787047e-05 1.09773200e-05]\n",
      "[[-0.00000000e+00 -1.90223684e-05  2.66997488e-03 -2.29900290e-05\n",
      "   6.65811747e-05  9.99996407e-01  3.61775144e-05 -3.58509695e-06\n",
      "  -1.07529115e-04 -4.03713863e-06 -4.70994448e-06  1.13067330e-05\n",
      "   1.15932097e-04  1.29794704e-04 -1.73458679e-05  2.49853767e-05\n",
      "   4.25349096e-06  6.60832046e-05 -2.19902607e-06  4.81766793e-05\n",
      "   2.05149540e-06]\n",
      " [-7.12395406e-20  7.60009294e-03 -1.84884303e-01  1.46852176e-02\n",
      "  -6.01221774e-03  3.65562454e-04  1.11096424e-02  2.58933010e-02\n",
      "   1.71452574e-03  7.27499175e-05 -1.14500617e-03  2.49813516e-02\n",
      "   3.92542793e-03  9.81729170e-01 -1.45041737e-03  1.29631641e-02\n",
      "   7.72105543e-03  1.38313292e-05 -3.88545725e-03  5.75141432e-03\n",
      "  -6.12629508e-04]\n",
      " [-1.09423895e-18  5.92496534e-03 -9.80757913e-01  2.09343363e-03\n",
      "  -4.23630193e-02  2.64399166e-03 -4.77431197e-03 -1.81903807e-02\n",
      "  -3.94393687e-02 -2.55028977e-03  8.22555728e-04 -9.58063949e-03\n",
      "  -1.74535008e-02 -1.83996278e-01  2.46643453e-03 -8.91912329e-03\n",
      "  -2.37791262e-04 -3.07672645e-03 -6.85241886e-04 -1.11249295e-03\n",
      "  -2.92848148e-03]]\n"
     ]
    }
   ],
   "source": [
    "pca = PCA(n_components=3)\n",
    "fit = pca.fit(x)\n",
    "# summarize components\n",
    "print(\"Explained Variance: %s\" % fit.explained_variance_ratio_)\n",
    "print(fit.components_)"
   ]
  },
  {
   "cell_type": "code",
   "execution_count": 49,
   "metadata": {},
   "outputs": [
    {
     "data": {
      "text/plain": [
       "array([-0.00000000e+00, -1.90223684e-05,  2.66997488e-03, -2.29900290e-05,\n",
       "        6.65811747e-05,  9.99996407e-01,  3.61775144e-05, -3.58509695e-06,\n",
       "       -1.07529115e-04, -4.03713863e-06, -4.70994448e-06,  1.13067330e-05,\n",
       "        1.15932097e-04,  1.29794704e-04, -1.73458679e-05,  2.49853767e-05,\n",
       "        4.25349096e-06,  6.60832046e-05, -2.19902607e-06,  4.81766793e-05,\n",
       "        2.05149540e-06])"
      ]
     },
     "execution_count": 49,
     "metadata": {},
     "output_type": "execute_result"
    }
   ],
   "source": []
  },
  {
   "cell_type": "code",
   "execution_count": 63,
   "metadata": {},
   "outputs": [
    {
     "name": "stdout",
     "output_type": "stream",
     "text": [
      "\"0\" : \"float\"\n",
      "\"1\" : \"float\"\n",
      "\"2\" : \"float\"\n",
      "\"3\" : \"float\"\n",
      "\"4\" : \"float\"\n",
      "\"5\" : \"float\"\n",
      "\"6\" : \"float\"\n",
      "\"7\" : \"float\"\n",
      "\"8\" : \"float\"\n",
      "\"9\" : \"float\"\n",
      "\"10\" : \"float\"\n",
      "\"11\" : \"float\"\n",
      "\"12\" : \"float\"\n",
      "\"13\" : \"float\"\n",
      "\"14\" : \"float\"\n",
      "\"15\" : \"float\"\n",
      "\"16\" : \"float\"\n",
      "\"17\" : \"float\"\n",
      "\"18\" : \"float\"\n",
      "\"19\" : \"float\"\n",
      "\"20\" : \"float\"\n"
     ]
    }
   ],
   "source": [
    "for i in df.columns:\n",
    "    print('\"{}\"'.format(i)+\" : \"+'\"float\"')"
   ]
  },
  {
   "cell_type": "code",
   "execution_count": 65,
   "metadata": {},
   "outputs": [
    {
     "data": {
      "text/plain": [
       "0     float64\n",
       "1     float64\n",
       "2     float64\n",
       "3     float64\n",
       "4     float64\n",
       "5     float64\n",
       "6     float64\n",
       "7     float64\n",
       "8     float64\n",
       "9     float64\n",
       "10    float64\n",
       "11    float64\n",
       "12    float64\n",
       "13    float64\n",
       "14    float64\n",
       "15    float64\n",
       "16    float64\n",
       "17    float64\n",
       "18    float64\n",
       "19    float64\n",
       "20    float64\n",
       "dtype: object"
      ]
     },
     "execution_count": 65,
     "metadata": {},
     "output_type": "execute_result"
    }
   ],
   "source": [
    "df.dtypes"
   ]
  },
  {
   "cell_type": "code",
   "execution_count": null,
   "metadata": {},
   "outputs": [],
   "source": []
  }
 ],
 "metadata": {
  "kernelspec": {
   "display_name": "Python 3",
   "language": "python",
   "name": "python3"
  },
  "language_info": {
   "codemirror_mode": {
    "name": "ipython",
    "version": 3
   },
   "file_extension": ".py",
   "mimetype": "text/x-python",
   "name": "python",
   "nbconvert_exporter": "python",
   "pygments_lexer": "ipython3",
   "version": "3.7.6"
  }
 },
 "nbformat": 4,
 "nbformat_minor": 4
}
